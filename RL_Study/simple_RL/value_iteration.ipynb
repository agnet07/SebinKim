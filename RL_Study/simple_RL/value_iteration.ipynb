{
 "cells": [
  {
   "cell_type": "code",
   "execution_count": 21,
   "id": "50e6e911",
   "metadata": {},
   "outputs": [],
   "source": [
    "import numpy as np\n",
    "import gym\n",
    "import time\n",
    "from lake_envs import *"
   ]
  },
  {
   "cell_type": "code",
   "execution_count": 22,
   "id": "46b38195",
   "metadata": {},
   "outputs": [],
   "source": [
    "env = gym.make(\"Deterministic-4x4-FrozenLake-v0\")\n",
    "np.set_printoptions(precision=3)"
   ]
  },
  {
   "cell_type": "code",
   "execution_count": 25,
   "id": "7a195ad0",
   "metadata": {},
   "outputs": [],
   "source": [
    "def value_iteration(P, nS, nA, gamma=0.9, tol=1e-3):\n",
    "\t\"\"\"\n",
    "\tLearn value function and policy by using value iteration method for a given\n",
    "\tgamma and environment.\n",
    "\n",
    "\tParameters:\n",
    "\t----------\n",
    "\tP, nS, nA, gamma:\n",
    "\t\tdefined at beginning of file\n",
    "\ttol: float\n",
    "\t\tTerminate value iteration when\n",
    "\t\t\tmax |value_function(s) - prev_value_function(s)| < tol\n",
    "\tReturns:\n",
    "\t----------\n",
    "\tvalue_function: np.ndarray[nS]\n",
    "\tpolicy: np.ndarray[nS]\n",
    "\t\"\"\"\n",
    "\n",
    "\tvalue_function = np.zeros(nS)\n",
    "\tpolicy = np.zeros(nS, dtype=int)\n",
    "\t############################\n",
    "\t# YOUR IMPLEMENTATION HERE #\n",
    "\twhile True :\n",
    "\t\tdelta = 0\n",
    "\n",
    "\t\tfor each_state in range(nS) :\n",
    "\t\t\told_value = value_function[each_state]\n",
    "\t\t\t#Cal New Val\n",
    "\t\t\tlist_of_action = []\n",
    "\t\t\tfor each_action in range(nA) :\n",
    "\t\t\t\ttmp_s_a_val = 0\n",
    "\t\t\t\tfor t_p, next_state, reward_t, _ in P[each_state][each_action] :\n",
    "\t\t\t\t\ttmp_s_a_val += t_p*(reward_t+(gamma*value_function[next_state]))\n",
    "\t\t\t\tlist_of_action.append(tmp_s_a_val)\n",
    "\t\t\tvalue_function[each_state] = max(list_of_action)\n",
    "\t\t\tdelta = max(delta, abs(old_value-value_function[each_state]))\n",
    "\n",
    "\t\tif delta < tol :\n",
    "\t\t\tbreak\n",
    "    \n",
    "\t#print(value_function)\n",
    "    \n",
    "\tfor each_state_n in range(nS) :\n",
    "\t\t#policy[each_state_n] = np.argmax([sum_sr_2(P, V=value_function, s=each_state_n, a=a, gamma=gamma) for a in range(nA)])\n",
    "\t\t#test = [sum_sr_2(P, V=value_function, s=each_state_n, a=a, gamma=gamma) for a in range(nA)]\n",
    "\t\t#test_1 = np.argmax(test)\n",
    "\t\t\n",
    "#\t\tprint(test)\n",
    "#\t\tprint(test_1)\n",
    "#\t\tprint((policy[each_state_n]))\n",
    "\t\tlist_of_action = []\n",
    "\t\tfor each_action in range(nA) :\n",
    "\t\t\ttmp_s_a_val = 0\n",
    "\t\t\tfor t_p, next_state, reward_t, _ in P[each_state_n][each_action] :\n",
    "\t\t\t\ttmp_s_a_val += t_p*(reward_t+(gamma*value_function[next_state]))\n",
    "\t\t\t\t#print(tmp_s_a_val)\n",
    "\t\t\tlist_of_action.append(tmp_s_a_val)\n",
    "\t\t#print(list_of_action)\n",
    "\t#print(policy)\n",
    "\t\tpolicy[each_state_n] = np.argmax(list_of_action)\n",
    "\t############################\n",
    "\treturn value_function, policy"
   ]
  },
  {
   "cell_type": "code",
   "execution_count": 26,
   "id": "ab3f228b",
   "metadata": {},
   "outputs": [
    {
     "data": {
      "text/plain": [
       "(array([0.59 , 0.656, 0.729, 0.656, 0.656, 0.   , 0.81 , 0.   , 0.729,\n",
       "        0.81 , 0.9  , 0.   , 0.   , 0.9  , 1.   , 0.   ]),\n",
       " array([1, 2, 1, 0, 1, 0, 1, 0, 2, 1, 1, 0, 0, 2, 2, 0]))"
      ]
     },
     "execution_count": 26,
     "metadata": {},
     "output_type": "execute_result"
    }
   ],
   "source": [
    "value_iteration(env.P, env.nS, env.nA, gamma=0.9, tol=1e-3)"
   ]
  },
  {
   "cell_type": "code",
   "execution_count": null,
   "id": "f63f4b2a",
   "metadata": {},
   "outputs": [],
   "source": []
  },
  {
   "cell_type": "code",
   "execution_count": null,
   "id": "6c97ea7c",
   "metadata": {},
   "outputs": [],
   "source": []
  },
  {
   "cell_type": "code",
   "execution_count": null,
   "id": "c3115a79",
   "metadata": {},
   "outputs": [],
   "source": []
  },
  {
   "cell_type": "code",
   "execution_count": null,
   "id": "dcb1168b",
   "metadata": {},
   "outputs": [],
   "source": []
  },
  {
   "cell_type": "code",
   "execution_count": null,
   "id": "a5a46f51",
   "metadata": {},
   "outputs": [],
   "source": []
  }
 ],
 "metadata": {
  "kernelspec": {
   "display_name": "Python 3",
   "language": "python",
   "name": "python3"
  },
  "language_info": {
   "codemirror_mode": {
    "name": "ipython",
    "version": 3
   },
   "file_extension": ".py",
   "mimetype": "text/x-python",
   "name": "python",
   "nbconvert_exporter": "python",
   "pygments_lexer": "ipython3",
   "version": "3.8.8"
  }
 },
 "nbformat": 4,
 "nbformat_minor": 5
}
